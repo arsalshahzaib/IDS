{
 "cells": [
  {
   "cell_type": "code",
   "execution_count": 6,
   "id": "70beb7af",
   "metadata": {},
   "outputs": [],
   "source": [
    "# importing the required libraries\n",
    "import pandas as pd\n",
    "from sklearn import preprocessing\n",
    "import scikitplot as skplt # for plotting the confusion matrix\n",
    "\n",
    "# importing the required ML classifiers\n",
    "from sklearn.ensemble import RandomForestClassifier\n",
    "from sklearn.svm import SVC, LinearSVC\n",
    "from sklearn.neural_network import MLPClassifier\n",
    "from sklearn.tree import DecisionTreeClassifier\n",
    "from sklearn.naive_bayes import GaussianNB\n",
    "\n",
    "# importing ML evaluation metrics\n",
    "from sklearn.metrics import accuracy_score, f1_score\n",
    "from sklearn.model_selection import train_test_split\n",
    "from sklearn import metrics, model_selection\n",
    "from sklearn.model_selection import ShuffleSplit,cross_val_score # for Monte Carlo Cross Validation\n",
    "from sklearn.model_selection import LeavePOut,cross_val_score # for leave P-out Cross Validation "
   ]
  },
  {
   "cell_type": "code",
   "execution_count": 7,
   "id": "71f7d70c",
   "metadata": {},
   "outputs": [
    {
     "data": {
      "text/html": [
       "<div>\n",
       "<style scoped>\n",
       "    .dataframe tbody tr th:only-of-type {\n",
       "        vertical-align: middle;\n",
       "    }\n",
       "\n",
       "    .dataframe tbody tr th {\n",
       "        vertical-align: top;\n",
       "    }\n",
       "\n",
       "    .dataframe thead th {\n",
       "        text-align: right;\n",
       "    }\n",
       "</style>\n",
       "<table border=\"1\" class=\"dataframe\">\n",
       "  <thead>\n",
       "    <tr style=\"text-align: right;\">\n",
       "      <th></th>\n",
       "      <th>height</th>\n",
       "      <th>weight</th>\n",
       "      <th>beard</th>\n",
       "      <th>hair_length</th>\n",
       "      <th>shoe_size</th>\n",
       "      <th>scarf</th>\n",
       "      <th>eye_color</th>\n",
       "      <th>gender</th>\n",
       "    </tr>\n",
       "  </thead>\n",
       "  <tbody>\n",
       "    <tr>\n",
       "      <th>0</th>\n",
       "      <td>71</td>\n",
       "      <td>176</td>\n",
       "      <td>yes</td>\n",
       "      <td>short</td>\n",
       "      <td>44</td>\n",
       "      <td>no</td>\n",
       "      <td>black</td>\n",
       "      <td>male</td>\n",
       "    </tr>\n",
       "    <tr>\n",
       "      <th>1</th>\n",
       "      <td>68</td>\n",
       "      <td>165</td>\n",
       "      <td>no</td>\n",
       "      <td>bald</td>\n",
       "      <td>41</td>\n",
       "      <td>no</td>\n",
       "      <td>black</td>\n",
       "      <td>male</td>\n",
       "    </tr>\n",
       "    <tr>\n",
       "      <th>2</th>\n",
       "      <td>62</td>\n",
       "      <td>132</td>\n",
       "      <td>no</td>\n",
       "      <td>medium</td>\n",
       "      <td>37</td>\n",
       "      <td>yes</td>\n",
       "      <td>blue</td>\n",
       "      <td>female</td>\n",
       "    </tr>\n",
       "    <tr>\n",
       "      <th>3</th>\n",
       "      <td>65</td>\n",
       "      <td>138</td>\n",
       "      <td>no</td>\n",
       "      <td>long</td>\n",
       "      <td>38</td>\n",
       "      <td>no</td>\n",
       "      <td>gray</td>\n",
       "      <td>female</td>\n",
       "    </tr>\n",
       "    <tr>\n",
       "      <th>4</th>\n",
       "      <td>70</td>\n",
       "      <td>197</td>\n",
       "      <td>yes</td>\n",
       "      <td>medium</td>\n",
       "      <td>43</td>\n",
       "      <td>no</td>\n",
       "      <td>gray</td>\n",
       "      <td>male</td>\n",
       "    </tr>\n",
       "    <tr>\n",
       "      <th>...</th>\n",
       "      <td>...</td>\n",
       "      <td>...</td>\n",
       "      <td>...</td>\n",
       "      <td>...</td>\n",
       "      <td>...</td>\n",
       "      <td>...</td>\n",
       "      <td>...</td>\n",
       "      <td>...</td>\n",
       "    </tr>\n",
       "    <tr>\n",
       "      <th>80</th>\n",
       "      <td>80</td>\n",
       "      <td>124</td>\n",
       "      <td>no</td>\n",
       "      <td>short</td>\n",
       "      <td>46</td>\n",
       "      <td>no</td>\n",
       "      <td>brown</td>\n",
       "      <td>male</td>\n",
       "    </tr>\n",
       "    <tr>\n",
       "      <th>81</th>\n",
       "      <td>83</td>\n",
       "      <td>110</td>\n",
       "      <td>no</td>\n",
       "      <td>long</td>\n",
       "      <td>35</td>\n",
       "      <td>no</td>\n",
       "      <td>brown</td>\n",
       "      <td>female</td>\n",
       "    </tr>\n",
       "    <tr>\n",
       "      <th>82</th>\n",
       "      <td>85</td>\n",
       "      <td>130</td>\n",
       "      <td>yes</td>\n",
       "      <td>bald</td>\n",
       "      <td>48</td>\n",
       "      <td>no</td>\n",
       "      <td>black</td>\n",
       "      <td>male</td>\n",
       "    </tr>\n",
       "    <tr>\n",
       "      <th>83</th>\n",
       "      <td>78</td>\n",
       "      <td>111</td>\n",
       "      <td>no</td>\n",
       "      <td>medium</td>\n",
       "      <td>37</td>\n",
       "      <td>yes</td>\n",
       "      <td>green</td>\n",
       "      <td>female</td>\n",
       "    </tr>\n",
       "    <tr>\n",
       "      <th>84</th>\n",
       "      <td>86</td>\n",
       "      <td>135</td>\n",
       "      <td>no</td>\n",
       "      <td>short</td>\n",
       "      <td>49</td>\n",
       "      <td>no</td>\n",
       "      <td>brown</td>\n",
       "      <td>male</td>\n",
       "    </tr>\n",
       "  </tbody>\n",
       "</table>\n",
       "<p>85 rows × 8 columns</p>\n",
       "</div>"
      ],
      "text/plain": [
       "    height  weight beard hair_length  shoe_size scarf eye_color  gender\n",
       "0       71     176   yes       short         44    no     black    male\n",
       "1       68     165    no        bald         41    no     black    male\n",
       "2       62     132    no      medium         37   yes      blue  female\n",
       "3       65     138    no        long         38    no      gray  female\n",
       "4       70     197   yes      medium         43    no      gray    male\n",
       "..     ...     ...   ...         ...        ...   ...       ...     ...\n",
       "80      80     124    no       short         46    no     brown    male\n",
       "81      83     110    no        long         35    no     brown  female\n",
       "82      85     130   yes        bald         48    no     black    male\n",
       "83      78     111    no      medium         37   yes     green  female\n",
       "84      86     135    no       short         49    no     brown    male\n",
       "\n",
       "[85 rows x 8 columns]"
      ]
     },
     "execution_count": 7,
     "metadata": {},
     "output_type": "execute_result"
    }
   ],
   "source": [
    "df_gender = pd.read_csv('gender-prediction.csv')\n",
    "df_gender"
   ]
  },
  {
   "cell_type": "code",
   "execution_count": 8,
   "id": "99a2b30d",
   "metadata": {},
   "outputs": [],
   "source": [
    "# converting the string based inputs into integer as the model only understands integers\n",
    "labels = preprocessing.LabelEncoder()\n",
    "beard_encd = labels.fit_transform(df_gender.beard)\n",
    "hair_length_encd = labels.fit_transform(df_gender.hair_length)\n",
    "scarf_encd = labels.fit_transform(df_gender.scarf)\n",
    "eye_color_encd = labels.fit_transform(df_gender.eye_color)\n",
    "gender_encd = labels.fit_transform(df_gender.gender)"
   ]
  },
  {
   "cell_type": "code",
   "execution_count": 9,
   "id": "9918dc97",
   "metadata": {},
   "outputs": [],
   "source": [
    "# selecting a classifier\n",
    "# model = RandomForestClassifier()\n",
    "\n",
    "# create a Gaussian classifier\n",
    "model = GaussianNB()\n",
    "\n",
    "# create a Decision tree classifier\n",
    "# model = DecisionTreeClassifier()"
   ]
  },
  {
   "cell_type": "code",
   "execution_count": 10,
   "id": "70e83fc2",
   "metadata": {},
   "outputs": [],
   "source": [
    "# separating independent and dependent variables from the data frame\n",
    "x = list(zip(df_gender.height, df_gender.weight, beard_encd, hair_length_encd, df_gender.shoe_size, scarf_encd, eye_color_encd))\n",
    "y = gender_encd"
   ]
  },
  {
   "cell_type": "code",
   "execution_count": 11,
   "id": "ccf478dc",
   "metadata": {},
   "outputs": [],
   "source": [
    "# # Leave POut stuff\n",
    "# lpo = LeavePOut(p=2)\n",
    "# lpo.get_n_splits(x)\n",
    "# tree = RandomForestClassifier(n_estimators = 10, max_depth = 5, n_jobs= -1)\n",
    "# score = cross_val_score(tree, x, y, cv = lpo)\n",
    "# print(\"Cross Validation Scores are {}\".format(score))\n",
    "# print(\"Average Cross Validation score :{}\".format(score.mean()))"
   ]
  },
  {
   "cell_type": "code",
   "execution_count": 12,
   "id": "b0d376d9",
   "metadata": {},
   "outputs": [],
   "source": [
    "# for shuffle split model\n",
    "# mc = ShuffleSplit(n_splits = 5,test_size = 0.33,random_state = 7)"
   ]
  },
  {
   "cell_type": "code",
   "execution_count": 13,
   "id": "079a9b01",
   "metadata": {},
   "outputs": [],
   "source": [
    "# print(\"Cross validation scores with Monte Carlo Cross Validation\")\n",
    "# cross_val_score(model, x, y, cv = mc).mean() "
   ]
  },
  {
   "cell_type": "code",
   "execution_count": 14,
   "id": "e5fc60e1",
   "metadata": {},
   "outputs": [],
   "source": [
    "# make train/test split 67/33\n",
    "X_train, x_test, Y_train, y_test = train_test_split(x, y, test_size = 0.33, random_state = 2)"
   ]
  },
  {
   "cell_type": "code",
   "execution_count": 15,
   "id": "bef42d98",
   "metadata": {},
   "outputs": [
    {
     "data": {
      "text/plain": [
       "GaussianNB()"
      ]
     },
     "execution_count": 15,
     "metadata": {},
     "output_type": "execute_result"
    }
   ],
   "source": [
    "# training the model using the training data\n",
    "model.fit(X_train,Y_train)"
   ]
  },
  {
   "cell_type": "code",
   "execution_count": 16,
   "id": "dd5b60ef",
   "metadata": {},
   "outputs": [],
   "source": [
    "# test the model using the test input only\n",
    "prediction = model.predict(x_test)"
   ]
  },
  {
   "cell_type": "code",
   "execution_count": 17,
   "id": "ac97c869",
   "metadata": {},
   "outputs": [
    {
     "name": "stdout",
     "output_type": "stream",
     "text": [
      "93.10344827586206\n"
     ]
    }
   ],
   "source": [
    "# calcualting and printing the accuracy\n",
    "model_acc = accuracy_score(y_test, prediction)*100\n",
    "print(model_acc)"
   ]
  },
  {
   "cell_type": "code",
   "execution_count": 18,
   "id": "765b3a24",
   "metadata": {},
   "outputs": [
    {
     "name": "stdout",
     "output_type": "stream",
     "text": [
      "              precision    recall  f1-score   support\n",
      "\n",
      "           0       1.00      0.82      0.90        11\n",
      "           1       0.90      1.00      0.95        18\n",
      "\n",
      "    accuracy                           0.93        29\n",
      "   macro avg       0.95      0.91      0.92        29\n",
      "weighted avg       0.94      0.93      0.93        29\n",
      "\n"
     ]
    }
   ],
   "source": [
    "# generate classification report\n",
    "model_cl_rep = metrics.classification_report(y_test, prediction)\n",
    "print(model_cl_rep)"
   ]
  },
  {
   "cell_type": "code",
   "execution_count": 19,
   "id": "d38a8a6c",
   "metadata": {},
   "outputs": [
    {
     "name": "stdout",
     "output_type": "stream",
     "text": [
      "[[ 9  2]\n",
      " [ 0 18]]\n"
     ]
    }
   ],
   "source": [
    "# generate confusion matrix\n",
    "model_cm = metrics.confusion_matrix(y_test, prediction)\n",
    "print(model_cm)"
   ]
  },
  {
   "cell_type": "code",
   "execution_count": 20,
   "id": "95e57cee",
   "metadata": {},
   "outputs": [],
   "source": [
    "# changing the model \n",
    "model = SVC()"
   ]
  },
  {
   "cell_type": "code",
   "execution_count": 21,
   "id": "d065ed35",
   "metadata": {},
   "outputs": [
    {
     "data": {
      "text/plain": [
       "SVC()"
      ]
     },
     "execution_count": 21,
     "metadata": {},
     "output_type": "execute_result"
    }
   ],
   "source": [
    "# training the model using the training data\n",
    "model.fit(X_train,Y_train)"
   ]
  },
  {
   "cell_type": "code",
   "execution_count": 22,
   "id": "a73c5878",
   "metadata": {},
   "outputs": [],
   "source": [
    "# test the model using the test input only\n",
    "prediction_SVC = model.predict(x_test)"
   ]
  },
  {
   "cell_type": "code",
   "execution_count": 23,
   "id": "8cc4b42b",
   "metadata": {},
   "outputs": [
    {
     "name": "stdout",
     "output_type": "stream",
     "text": [
      "86.20689655172413\n"
     ]
    }
   ],
   "source": [
    "# calcualting and printing the accuracy\n",
    "model_acc_SVC = accuracy_score(y_test, prediction_SVC)*100\n",
    "print(model_acc_SVC)"
   ]
  },
  {
   "cell_type": "code",
   "execution_count": 24,
   "id": "fe83c076",
   "metadata": {},
   "outputs": [
    {
     "name": "stdout",
     "output_type": "stream",
     "text": [
      "              precision    recall  f1-score   support\n",
      "\n",
      "           0       0.82      0.82      0.82        11\n",
      "           1       0.89      0.89      0.89        18\n",
      "\n",
      "    accuracy                           0.86        29\n",
      "   macro avg       0.85      0.85      0.85        29\n",
      "weighted avg       0.86      0.86      0.86        29\n",
      "\n"
     ]
    }
   ],
   "source": [
    "# generate classification report\n",
    "model_cl_rep_SVC = metrics.classification_report(y_test, prediction_SVC)\n",
    "print(model_cl_rep_SVC)"
   ]
  },
  {
   "cell_type": "code",
   "execution_count": 25,
   "id": "6580c0be",
   "metadata": {},
   "outputs": [
    {
     "name": "stdout",
     "output_type": "stream",
     "text": [
      "[[ 9  2]\n",
      " [ 2 16]]\n"
     ]
    }
   ],
   "source": [
    "# generate confusion matrix\n",
    "model_cm_SVC = metrics.confusion_matrix(y_test, prediction_SVC)\n",
    "print(model_cm_SVC)"
   ]
  },
  {
   "cell_type": "code",
   "execution_count": 26,
   "id": "df4eabd4",
   "metadata": {},
   "outputs": [],
   "source": [
    "# changing the classifier as required\n",
    "model_MLPC = MLPClassifier()"
   ]
  },
  {
   "cell_type": "code",
   "execution_count": 27,
   "id": "fe349e27",
   "metadata": {},
   "outputs": [
    {
     "name": "stderr",
     "output_type": "stream",
     "text": [
      "C:\\Users\\arsal\\anaconda3\\lib\\site-packages\\sklearn\\neural_network\\_multilayer_perceptron.py:692: ConvergenceWarning: Stochastic Optimizer: Maximum iterations (200) reached and the optimization hasn't converged yet.\n",
      "  warnings.warn(\n"
     ]
    },
    {
     "data": {
      "text/plain": [
       "MLPClassifier()"
      ]
     },
     "execution_count": 27,
     "metadata": {},
     "output_type": "execute_result"
    }
   ],
   "source": [
    "# training the model using the training data\n",
    "model_MLPC.fit(X_train,Y_train)"
   ]
  },
  {
   "cell_type": "code",
   "execution_count": 28,
   "id": "faf76de9",
   "metadata": {},
   "outputs": [],
   "source": [
    "# test the model using the test input only\n",
    "prediction_MLPC = model_MLPC.predict(x_test)"
   ]
  },
  {
   "cell_type": "code",
   "execution_count": 29,
   "id": "48aa646e",
   "metadata": {},
   "outputs": [
    {
     "name": "stdout",
     "output_type": "stream",
     "text": [
      "93.10344827586206\n"
     ]
    }
   ],
   "source": [
    "# calcualting and printing the accuracy\n",
    "model_acc_MLPC = accuracy_score(y_test, prediction_MLPC)*100\n",
    "print(model_acc_MLPC)"
   ]
  },
  {
   "cell_type": "code",
   "execution_count": 30,
   "id": "78c527d9",
   "metadata": {},
   "outputs": [
    {
     "name": "stdout",
     "output_type": "stream",
     "text": [
      "              precision    recall  f1-score   support\n",
      "\n",
      "           0       0.91      0.91      0.91        11\n",
      "           1       0.94      0.94      0.94        18\n",
      "\n",
      "    accuracy                           0.93        29\n",
      "   macro avg       0.93      0.93      0.93        29\n",
      "weighted avg       0.93      0.93      0.93        29\n",
      "\n"
     ]
    }
   ],
   "source": [
    "# generate classification report\n",
    "model_cl_rep_MLPC = metrics.classification_report(y_test, prediction_MLPC)\n",
    "print(model_cl_rep_MLPC)"
   ]
  },
  {
   "cell_type": "code",
   "execution_count": 31,
   "id": "581c220c",
   "metadata": {},
   "outputs": [
    {
     "name": "stdout",
     "output_type": "stream",
     "text": [
      "[[10  1]\n",
      " [ 1 17]]\n"
     ]
    }
   ],
   "source": [
    "# generate confusion matrix\n",
    "model_cm_MLPC = metrics.confusion_matrix(y_test, prediction_MLPC)\n",
    "print(model_cm_MLPC)"
   ]
  },
  {
   "cell_type": "code",
   "execution_count": null,
   "id": "77c6672a",
   "metadata": {},
   "outputs": [],
   "source": []
  }
 ],
 "metadata": {
  "kernelspec": {
   "display_name": "Python 3 (ipykernel)",
   "language": "python",
   "name": "python3"
  },
  "language_info": {
   "codemirror_mode": {
    "name": "ipython",
    "version": 3
   },
   "file_extension": ".py",
   "mimetype": "text/x-python",
   "name": "python",
   "nbconvert_exporter": "python",
   "pygments_lexer": "ipython3",
   "version": "3.9.13"
  }
 },
 "nbformat": 4,
 "nbformat_minor": 5
}
