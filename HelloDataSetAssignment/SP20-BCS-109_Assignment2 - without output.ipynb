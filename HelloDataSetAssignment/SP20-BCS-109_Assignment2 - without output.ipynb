{
 "cells": [
  {
   "cell_type": "code",
   "execution_count": 134,
   "id": "bf2264d0",
   "metadata": {},
   "outputs": [],
   "source": [
    "import pandas as pd\n",
    "from matplotlib.pyplot import pie\n",
    "import seaborn as sns\n",
    "import re"
   ]
  },
  {
   "cell_type": "code",
   "execution_count": 5,
   "id": "a84175e5",
   "metadata": {},
   "outputs": [],
   "source": [
    "dataset = pd.read_csv('the-hello-dataset-fa22.csv')"
   ]
  },
  {
   "cell_type": "code",
   "execution_count": 22,
   "id": "62e3a88d",
   "metadata": {},
   "outputs": [],
   "source": [
    "NamesStartsWithH = dataset['Name'][dataset.Name.str.startswith('H')]"
   ]
  },
  {
   "cell_type": "code",
   "execution_count": null,
   "id": "73b26488",
   "metadata": {
    "collapsed": true
   },
   "outputs": [],
   "source": [
    "for each_name in NamesStartsWithH:\n",
    "    print(each_name)\n",
    "    "
   ]
  },
  {
   "cell_type": "code",
   "execution_count": 30,
   "id": "4eb8d7cb",
   "metadata": {},
   "outputs": [],
   "source": [
    "first_middle_last = dataset['Name'][dataset.Name.str.contains('^\\w+\\s\\w+\\s\\w+')]"
   ]
  },
  {
   "cell_type": "code",
   "execution_count": null,
   "id": "ea872450",
   "metadata": {},
   "outputs": [],
   "source": [
    "len(first_middle_last)"
   ]
  },
  {
   "cell_type": "code",
   "execution_count": 57,
   "id": "efafe3ba",
   "metadata": {},
   "outputs": [],
   "source": [
    "percentage_of_3_gpa = \"{}%\".format((dataset[dataset['CGPA'] >= 3.0]['CGPA'].value_counts().sum() * 100 / len(dataset)).round(1))"
   ]
  },
  {
   "cell_type": "code",
   "execution_count": null,
   "id": "64d83c38",
   "metadata": {
    "collapsed": true
   },
   "outputs": [],
   "source": [
    "percentage_of_3_gpa"
   ]
  },
  {
   "cell_type": "code",
   "execution_count": null,
   "id": "d65656c4",
   "metadata": {
    "collapsed": true
   },
   "outputs": [],
   "source": [
    "dataset.groupby('Gender').size().plot.pie(autopct='%.1f%%')"
   ]
  },
  {
   "cell_type": "code",
   "execution_count": 103,
   "id": "0857f964",
   "metadata": {},
   "outputs": [],
   "source": [
    "ranges = [[2.0,2.5],[2.6,3.0],[3.1,3.5],[3.6,4.0]]"
   ]
  },
  {
   "cell_type": "code",
   "execution_count": null,
   "id": "ee306b89",
   "metadata": {
    "collapsed": true
   },
   "outputs": [],
   "source": [
    "for each_range in ranges:\n",
    "    dataset[dataset['Gender'] == 'Male'].plot.hist(column=['CGPA'], by='Gender', range=each_range)"
   ]
  },
  {
   "cell_type": "code",
   "execution_count": null,
   "id": "3ce2d4e7",
   "metadata": {
    "collapsed": true
   },
   "outputs": [],
   "source": [
    "sns.catplot(data=dataset, y='HSSC-1', hue='Gender', palette=['blue', 'pink'])"
   ]
  },
  {
   "cell_type": "code",
   "execution_count": null,
   "id": "64b96afc",
   "metadata": {
    "collapsed": true
   },
   "outputs": [],
   "source": [
    "sns.countplot(data=dataset, y='FavoriteColor', hue='Gender', palette=['blue', 'pink'])"
   ]
  },
  {
   "cell_type": "code",
   "execution_count": null,
   "id": "b57775b2",
   "metadata": {
    "collapsed": true
   },
   "outputs": [],
   "source": [
    "sns.lineplot(data=dataset, x='BirthMonth', y='Name')"
   ]
  },
  {
   "cell_type": "code",
   "execution_count": null,
   "id": "3dc2b777",
   "metadata": {
    "collapsed": true
   },
   "outputs": [],
   "source": [
    "sns.heatmap(dataset[['Name','HSSC-1','HSSC-2']].corr(), annot=True)"
   ]
  }
 ],
 "metadata": {
  "kernelspec": {
   "display_name": "Python 3 (ipykernel)",
   "language": "python",
   "name": "python3"
  },
  "language_info": {
   "codemirror_mode": {
    "name": "ipython",
    "version": 3
   },
   "file_extension": ".py",
   "mimetype": "text/x-python",
   "name": "python",
   "nbconvert_exporter": "python",
   "pygments_lexer": "ipython3",
   "version": "3.9.13"
  }
 },
 "nbformat": 4,
 "nbformat_minor": 5
}
